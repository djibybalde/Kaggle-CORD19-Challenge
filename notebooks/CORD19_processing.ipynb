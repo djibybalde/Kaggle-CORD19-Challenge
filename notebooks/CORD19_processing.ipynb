{
 "cells": [
  {
   "cell_type": "markdown",
   "metadata": {},
   "source": [
    "https://github.com/CoronaWhy\n",
    "# Data Processing\n",
    "## Necessary Libraries"
   ]
  },
  {
   "cell_type": "code",
   "execution_count": 1,
   "metadata": {},
   "outputs": [],
   "source": [
    "import numpy as np\n",
    "import pandas as pd\n",
    "from datetime import datetime\n",
    "\n",
    "import glob \n",
    "import json \n",
    "\n",
    "import matplotlib.pyplot as plt \n",
    "from matplotlib.pyplot import figure \n",
    "import seaborn as sns \n",
    "\n",
    "import sys \n",
    "if not sys.warnoptions: \n",
    "    import warnings \n",
    "    warnings.simplefilter(\"ignore\")\n",
    "\n",
    "plt.style.use('ggplot')"
   ]
  },
  {
   "cell_type": "code",
   "execution_count": 2,
   "metadata": {},
   "outputs": [
    {
     "data": {
      "text/plain": [
       "'\\n# trying to use the GPU from tensorflow\\nimport tensorflow as tf\\n\\nconfig = tf.compat.v1.ConfigProto()\\nconfig.gpu_options.allow_growth = True\\n\\nsess = tf.compat.v1.Session(config=config)'"
      ]
     },
     "execution_count": 2,
     "metadata": {},
     "output_type": "execute_result"
    }
   ],
   "source": [
    "\"\"\"\n",
    "# trying to use the GPU from tensorflow\n",
    "import tensorflow as tf\n",
    "\n",
    "config = tf.compat.v1.ConfigProto()\n",
    "config.gpu_options.allow_growth = True\n",
    "\n",
    "sess = tf.compat.v1.Session(config=config)\"\"\""
   ]
  },
  {
   "cell_type": "markdown",
   "metadata": {},
   "source": [
    "## Metadata "
   ]
  },
  {
   "cell_type": "code",
   "execution_count": 3,
   "metadata": {},
   "outputs": [],
   "source": [
    "# Display setting to show more characters in column\n",
    "pd.options.display.max_colwidth = 100\n",
    "\n",
    "path = '../CORD-19-research-challenge/'"
   ]
  },
  {
   "cell_type": "code",
   "execution_count": 4,
   "metadata": {},
   "outputs": [
    {
     "name": "stdout",
     "output_type": "stream",
     "text": [
      "<class 'pandas.core.frame.DataFrame'>\n",
      "RangeIndex: 47298 entries, 0 to 47297\n",
      "Data columns (total 18 columns):\n",
      " #   Column                       Non-Null Count  Dtype         \n",
      "---  ------                       --------------  -----         \n",
      " 0   cord_uid                     47298 non-null  object        \n",
      " 1   sha                          34283 non-null  object        \n",
      " 2   source_x                     47298 non-null  object        \n",
      " 3   title                        47140 non-null  object        \n",
      " 4   doi                          43956 non-null  object        \n",
      " 5   pmcid                        28038 non-null  object        \n",
      " 6   pubmed_id                    35409 non-null  object        \n",
      " 7   license                      47298 non-null  object        \n",
      " 8   abstract                     39048 non-null  object        \n",
      " 9   publish_time                 47289 non-null  datetime64[ns]\n",
      " 10  authors                      45189 non-null  object        \n",
      " 11  journal                      42894 non-null  object        \n",
      " 12  Microsoft Academic Paper ID  964 non-null    object        \n",
      " 13  WHO #Covidence               1768 non-null   object        \n",
      " 14  has_pdf_parse                47298 non-null  bool          \n",
      " 15  has_pmc_xml_parse            47298 non-null  bool          \n",
      " 16  full_text_file               38469 non-null  object        \n",
      " 17  url                          46996 non-null  object        \n",
      "dtypes: bool(2), datetime64[ns](1), object(15)\n",
      "memory usage: 5.9+ MB\n"
     ]
    }
   ],
   "source": [
    "metadata_df = pd.read_csv(f'{path}metadata.csv',\n",
    "                          parse_dates=['publish_time'],\n",
    "                          dtype={'pubmed_id':str, 'Microsoft Academic Paper ID':str},\n",
    "                          low_memory=False)\n",
    "\n",
    "metadata_df.info()"
   ]
  },
  {
   "cell_type": "code",
   "execution_count": 5,
   "metadata": {},
   "outputs": [],
   "source": [
    "metadata_df = metadata_df[['sha', 'title', 'authors', 'journal', 'publish_time', 'abstract']]\n",
    "metadata_df = metadata_df[metadata_df.sha.isna()==False]\n",
    "metadata_df.rename(columns={'sha':'paper_id'}, inplace=True)\n"
   ]
  },
  {
   "cell_type": "code",
   "execution_count": 6,
   "metadata": {},
   "outputs": [
    {
     "data": {
      "text/html": [
       "<div>\n",
       "<style scoped>\n",
       "    .dataframe tbody tr th:only-of-type {\n",
       "        vertical-align: middle;\n",
       "    }\n",
       "\n",
       "    .dataframe tbody tr th {\n",
       "        vertical-align: top;\n",
       "    }\n",
       "\n",
       "    .dataframe thead th {\n",
       "        text-align: right;\n",
       "    }\n",
       "</style>\n",
       "<table border=\"1\" class=\"dataframe\">\n",
       "  <thead>\n",
       "    <tr style=\"text-align: right;\">\n",
       "      <th></th>\n",
       "      <th>paper_id</th>\n",
       "      <th>title</th>\n",
       "      <th>authors</th>\n",
       "      <th>journal</th>\n",
       "      <th>publish_time</th>\n",
       "      <th>abstract</th>\n",
       "    </tr>\n",
       "  </thead>\n",
       "  <tbody>\n",
       "    <tr>\n",
       "      <th>3</th>\n",
       "      <td>aecbc613ebdab36753235197ffb4f35734b5ca63</td>\n",
       "      <td>Clinical and immunologic studies in identical twins discordant for systemic lupus erythematosus</td>\n",
       "      <td>Brunner, Carolyn M. et al.</td>\n",
       "      <td>The American Journal of Medicine</td>\n",
       "      <td>1973-08-31</td>\n",
       "      <td>Middle-aged female identical twins, one of whom had systemic lupus erythematosus (SLE), were eva...</td>\n",
       "    </tr>\n",
       "    <tr>\n",
       "      <th>5</th>\n",
       "      <td>212e990b378e8d267042753d5f9d4a64ea5e9869</td>\n",
       "      <td>Infectious diarrhea: Pathogenesis and risk factors</td>\n",
       "      <td>Cantey, J.Robert</td>\n",
       "      <td>The American Journal of Medicine</td>\n",
       "      <td>1985-06-28</td>\n",
       "      <td>Our understanding of the pathogenesis of infectious, especially bacterial, diarrhea has increase...</td>\n",
       "    </tr>\n",
       "    <tr>\n",
       "      <th>6</th>\n",
       "      <td>bf5d344243153d58be692ceb26f52c08e2bd2d2f</td>\n",
       "      <td>New perspectives on the pathogenesis of rheumatoid arthritis</td>\n",
       "      <td>Zvaifler, Nathan J.</td>\n",
       "      <td>The American Journal of Medicine</td>\n",
       "      <td>1988-10-14</td>\n",
       "      <td>In the pathogenesis of rheumatoid arthritis, locally produced antibodies complex with an incitin...</td>\n",
       "    </tr>\n",
       "    <tr>\n",
       "      <th>7</th>\n",
       "      <td>ddd2ecf42ec86ad66072962081e1ce4594431f9c</td>\n",
       "      <td>Management of acute and chronic respiratory tract infections</td>\n",
       "      <td>Ellner, Jerrold J.</td>\n",
       "      <td>The American Journal of Medicine</td>\n",
       "      <td>1988-09-16</td>\n",
       "      <td>Pharyngitis, bronchitis, and pneumonia represent the most common respiratory tract infections. W...</td>\n",
       "    </tr>\n",
       "    <tr>\n",
       "      <th>8</th>\n",
       "      <td>a55cb4e724091ced46b5e55b982a14525eea1c7e</td>\n",
       "      <td>Acute bronchitis: Results of U.S. and European trials of antibiotic therapy</td>\n",
       "      <td>Dere, Willard H.</td>\n",
       "      <td>The American Journal of Medicine</td>\n",
       "      <td>1992-06-22</td>\n",
       "      <td>Acute bronchitis, an illness frequently encountered by primary-care physicians, is an inflammati...</td>\n",
       "    </tr>\n",
       "  </tbody>\n",
       "</table>\n",
       "</div>"
      ],
      "text/plain": [
       "                                   paper_id  \\\n",
       "3  aecbc613ebdab36753235197ffb4f35734b5ca63   \n",
       "5  212e990b378e8d267042753d5f9d4a64ea5e9869   \n",
       "6  bf5d344243153d58be692ceb26f52c08e2bd2d2f   \n",
       "7  ddd2ecf42ec86ad66072962081e1ce4594431f9c   \n",
       "8  a55cb4e724091ced46b5e55b982a14525eea1c7e   \n",
       "\n",
       "                                                                                             title  \\\n",
       "3  Clinical and immunologic studies in identical twins discordant for systemic lupus erythematosus   \n",
       "5                                               Infectious diarrhea: Pathogenesis and risk factors   \n",
       "6                                     New perspectives on the pathogenesis of rheumatoid arthritis   \n",
       "7                                     Management of acute and chronic respiratory tract infections   \n",
       "8                      Acute bronchitis: Results of U.S. and European trials of antibiotic therapy   \n",
       "\n",
       "                      authors                           journal publish_time  \\\n",
       "3  Brunner, Carolyn M. et al.  The American Journal of Medicine   1973-08-31   \n",
       "5            Cantey, J.Robert  The American Journal of Medicine   1985-06-28   \n",
       "6         Zvaifler, Nathan J.  The American Journal of Medicine   1988-10-14   \n",
       "7          Ellner, Jerrold J.  The American Journal of Medicine   1988-09-16   \n",
       "8            Dere, Willard H.  The American Journal of Medicine   1992-06-22   \n",
       "\n",
       "                                                                                              abstract  \n",
       "3  Middle-aged female identical twins, one of whom had systemic lupus erythematosus (SLE), were eva...  \n",
       "5  Our understanding of the pathogenesis of infectious, especially bacterial, diarrhea has increase...  \n",
       "6  In the pathogenesis of rheumatoid arthritis, locally produced antibodies complex with an incitin...  \n",
       "7  Pharyngitis, bronchitis, and pneumonia represent the most common respiratory tract infections. W...  \n",
       "8  Acute bronchitis, an illness frequently encountered by primary-care physicians, is an inflammati...  "
      ]
     },
     "execution_count": 6,
     "metadata": {},
     "output_type": "execute_result"
    }
   ],
   "source": [
    "authors = []\n",
    "for author in metadata_df.authors.astype(str):\n",
    "    if len(author.split('; ')) > 2:\n",
    "        authors.append(author.split('; ')[0]+' et al.')\n",
    "    else:\n",
    "        authors.append(author)\n",
    "\n",
    "metadata_df['authors'] = authors\n",
    "metadata_df['abstract'] = [str(a).replace('Abstract ','') for a in metadata_df.abstract]\n",
    "\n",
    "metadata_df.head()"
   ]
  },
  {
   "cell_type": "markdown",
   "metadata": {},
   "source": [
    "## Extract the body text of the papers from JSON files"
   ]
  },
  {
   "cell_type": "code",
   "execution_count": 7,
   "metadata": {},
   "outputs": [
    {
     "name": "stdout",
     "output_type": "stream",
     "text": [
      "Lenght of pdf_json is 36236\n",
      "Lenght of pmc_json is 15861\n"
     ]
    }
   ],
   "source": [
    "# JSON path\n",
    "pdf_json = glob.glob(path+'**/pdf_json/*.json', recursive=True)\n",
    "pmc_json = glob.glob(path+'**/pmc_json/*.json', recursive=True)\n",
    "\n",
    "print('Lenght of pdf_json is', len(pdf_json))\n",
    "print('Lenght of pmc_json is', len(pmc_json))"
   ]
  },
  {
   "cell_type": "code",
   "execution_count": 8,
   "metadata": {},
   "outputs": [
    {
     "data": {
      "text/plain": [
       "dict_keys(['paper_id', 'metadata', 'abstract', 'body_text', 'bib_entries', 'ref_entries', 'back_matter'])"
      ]
     },
     "execution_count": 8,
     "metadata": {},
     "output_type": "execute_result"
    }
   ],
   "source": [
    "with open(pdf_json[0], mode='r') as file:\n",
    "     contents = json.loads(file.read())\n",
    "        \n",
    "contents.keys()"
   ]
  },
  {
   "cell_type": "code",
   "execution_count": 18,
   "metadata": {},
   "outputs": [
    {
     "name": "stdout",
     "output_type": "stream",
     "text": [
      "Processing index: 0 of 36236 ==> 0%\n",
      "Processing index: 3623 of 36236 ==> 10%\n",
      "Processing index: 7246 of 36236 ==> 20%\n",
      "Processing index: 10869 of 36236 ==> 30%\n",
      "Processing index: 14492 of 36236 ==> 40%\n",
      "Processing index: 18115 of 36236 ==> 50%\n",
      "Processing index: 21738 of 36236 ==> 60%\n",
      "Processing index: 25361 of 36236 ==> 70%\n",
      "Processing index: 28984 of 36236 ==> 80%\n",
      "Processing index: 32607 of 36236 ==> 90%\n",
      "Processing index: 36230 of 36236 ==> 100%\n",
      "CPU times: user 3min 11s, sys: 17.4 s, total: 3min 28s\n",
      "Wall time: 3min 53s\n"
     ]
    }
   ],
   "source": [
    "%%time\n",
    "papers_df = pd.DataFrame(columns=['paper_id','body_text'])\n",
    "\n",
    "for j in range(len(pdf_json)):\n",
    "    if j%(len(pdf_json)//10)==0:\n",
    "        print(f'Processing index: {j} of {len(pdf_json)} ==> {round(100*j/len(pdf_json))}%')  \n",
    "        \n",
    "    with open(pdf_json[j], mode='r') as file:\n",
    "        contents = json.loads(file.read())\n",
    "    papers_df.loc[j,'paper_id'] = contents['paper_id']\n",
    "\n",
    "    texts = []\n",
    "    for text in contents['body_text']:\n",
    "        texts.append(text['text'])\n",
    "    body_text = '\\n '.join(texts)\n",
    "    papers_df.loc[j,'body_text'] = body_text\n"
   ]
  },
  {
   "cell_type": "markdown",
   "metadata": {},
   "source": [
    "## Merging the metadata and the body text of the papers"
   ]
  },
  {
   "cell_type": "code",
   "execution_count": 19,
   "metadata": {},
   "outputs": [
    {
     "name": "stdout",
     "output_type": "stream",
     "text": [
      "<class 'pandas.core.frame.DataFrame'>\n",
      "Int64Index: 32417 entries, 0 to 32424\n",
      "Data columns (total 7 columns):\n",
      " #   Column        Non-Null Count  Dtype         \n",
      "---  ------        --------------  -----         \n",
      " 0   paper_id      32417 non-null  object        \n",
      " 1   title         32381 non-null  object        \n",
      " 2   authors       32417 non-null  object        \n",
      " 3   journal       31003 non-null  object        \n",
      " 4   publish_time  32417 non-null  datetime64[ns]\n",
      " 5   abstract      32417 non-null  object        \n",
      " 6   body_text     32417 non-null  object        \n",
      "dtypes: datetime64[ns](1), object(6)\n",
      "memory usage: 2.0+ MB\n",
      "CPU times: user 4.52 s, sys: 5.21 s, total: 9.73 s\n",
      "Wall time: 13.9 s\n"
     ]
    }
   ],
   "source": [
    "%%time\n",
    "cord19_df = pd.merge(metadata_df, papers_df, on=['paper_id'], how='inner')\n",
    "cord19_df.drop_duplicates(['paper_id', 'body_text'], inplace=True)\n",
    "\n",
    "cord19_df.info()"
   ]
  },
  {
   "cell_type": "code",
   "execution_count": 20,
   "metadata": {},
   "outputs": [
    {
     "data": {
      "text/plain": [
       "count                                                                                                   32417\n",
       "unique                                                                                                  32401\n",
       "top       In previous reports, workers have characterized the presentation of Middle East Respiratory Synd...\n",
       "freq                                                                                                        4\n",
       "Name: body_text, dtype: object"
      ]
     },
     "execution_count": 20,
     "metadata": {},
     "output_type": "execute_result"
    }
   ],
   "source": [
    "cord19_df['body_text'].describe(include='all')"
   ]
  },
  {
   "cell_type": "code",
   "execution_count": 21,
   "metadata": {},
   "outputs": [
    {
     "data": {
      "text/html": [
       "<div>\n",
       "<style scoped>\n",
       "    .dataframe tbody tr th:only-of-type {\n",
       "        vertical-align: middle;\n",
       "    }\n",
       "\n",
       "    .dataframe tbody tr th {\n",
       "        vertical-align: top;\n",
       "    }\n",
       "\n",
       "    .dataframe thead th {\n",
       "        text-align: right;\n",
       "    }\n",
       "</style>\n",
       "<table border=\"1\" class=\"dataframe\">\n",
       "  <thead>\n",
       "    <tr style=\"text-align: right;\">\n",
       "      <th></th>\n",
       "      <th>paper_id</th>\n",
       "      <th>title</th>\n",
       "      <th>authors</th>\n",
       "      <th>journal</th>\n",
       "      <th>publish_time</th>\n",
       "      <th>abstract</th>\n",
       "      <th>body_text</th>\n",
       "    </tr>\n",
       "  </thead>\n",
       "  <tbody>\n",
       "    <tr>\n",
       "      <th>0</th>\n",
       "      <td>aecbc613ebdab36753235197ffb4f35734b5ca63</td>\n",
       "      <td>Clinical and immunologic studies in identical twins discordant for systemic lupus erythematosus</td>\n",
       "      <td>Brunner, Carolyn M. et al.</td>\n",
       "      <td>The American Journal of Medicine</td>\n",
       "      <td>1973-08-31</td>\n",
       "      <td>Middle-aged female identical twins, one of whom had systemic lupus erythematosus (SLE), were eva...</td>\n",
       "      <td>The patient (Fo, ) was a 58 year old mentally retarded white woman, born in a rural area of sout...</td>\n",
       "    </tr>\n",
       "    <tr>\n",
       "      <th>1</th>\n",
       "      <td>212e990b378e8d267042753d5f9d4a64ea5e9869</td>\n",
       "      <td>Infectious diarrhea: Pathogenesis and risk factors</td>\n",
       "      <td>Cantey, J.Robert</td>\n",
       "      <td>The American Journal of Medicine</td>\n",
       "      <td>1985-06-28</td>\n",
       "      <td>Our understanding of the pathogenesis of infectious, especially bacterial, diarrhea has increase...</td>\n",
       "      <td>Pathogenesis and Risk Factors J. ROBERT CANTEY, M.D. Charleston, South Carolina Our understandin...</td>\n",
       "    </tr>\n",
       "    <tr>\n",
       "      <th>2</th>\n",
       "      <td>bf5d344243153d58be692ceb26f52c08e2bd2d2f</td>\n",
       "      <td>New perspectives on the pathogenesis of rheumatoid arthritis</td>\n",
       "      <td>Zvaifler, Nathan J.</td>\n",
       "      <td>The American Journal of Medicine</td>\n",
       "      <td>1988-10-14</td>\n",
       "      <td>In the pathogenesis of rheumatoid arthritis, locally produced antibodies complex with an incitin...</td>\n",
       "      <td>In the pathogenesis of rheumatoid arthritis, locally produced antibodies complex with an incitin...</td>\n",
       "    </tr>\n",
       "    <tr>\n",
       "      <th>3</th>\n",
       "      <td>ddd2ecf42ec86ad66072962081e1ce4594431f9c</td>\n",
       "      <td>Management of acute and chronic respiratory tract infections</td>\n",
       "      <td>Ellner, Jerrold J.</td>\n",
       "      <td>The American Journal of Medicine</td>\n",
       "      <td>1988-09-16</td>\n",
       "      <td>Pharyngitis, bronchitis, and pneumonia represent the most common respiratory tract infections. W...</td>\n",
       "      <td>Respiratory Tract Infections JERROLD J. ELLNER, M.D. Cleveland, CM Pharyngitis, bronchitis, and ...</td>\n",
       "    </tr>\n",
       "    <tr>\n",
       "      <th>4</th>\n",
       "      <td>a55cb4e724091ced46b5e55b982a14525eea1c7e</td>\n",
       "      <td>Acute bronchitis: Results of U.S. and European trials of antibiotic therapy</td>\n",
       "      <td>Dere, Willard H.</td>\n",
       "      <td>The American Journal of Medicine</td>\n",
       "      <td>1992-06-22</td>\n",
       "      <td>Acute bronchitis, an illness frequently encountered by primary-care physicians, is an inflammati...</td>\n",
       "      <td>A cute bronchitis, an illness frequently encountered by primary-care physicians [1] , is an infl...</td>\n",
       "    </tr>\n",
       "  </tbody>\n",
       "</table>\n",
       "</div>"
      ],
      "text/plain": [
       "                                   paper_id  \\\n",
       "0  aecbc613ebdab36753235197ffb4f35734b5ca63   \n",
       "1  212e990b378e8d267042753d5f9d4a64ea5e9869   \n",
       "2  bf5d344243153d58be692ceb26f52c08e2bd2d2f   \n",
       "3  ddd2ecf42ec86ad66072962081e1ce4594431f9c   \n",
       "4  a55cb4e724091ced46b5e55b982a14525eea1c7e   \n",
       "\n",
       "                                                                                             title  \\\n",
       "0  Clinical and immunologic studies in identical twins discordant for systemic lupus erythematosus   \n",
       "1                                               Infectious diarrhea: Pathogenesis and risk factors   \n",
       "2                                     New perspectives on the pathogenesis of rheumatoid arthritis   \n",
       "3                                     Management of acute and chronic respiratory tract infections   \n",
       "4                      Acute bronchitis: Results of U.S. and European trials of antibiotic therapy   \n",
       "\n",
       "                      authors                           journal publish_time  \\\n",
       "0  Brunner, Carolyn M. et al.  The American Journal of Medicine   1973-08-31   \n",
       "1            Cantey, J.Robert  The American Journal of Medicine   1985-06-28   \n",
       "2         Zvaifler, Nathan J.  The American Journal of Medicine   1988-10-14   \n",
       "3          Ellner, Jerrold J.  The American Journal of Medicine   1988-09-16   \n",
       "4            Dere, Willard H.  The American Journal of Medicine   1992-06-22   \n",
       "\n",
       "                                                                                              abstract  \\\n",
       "0  Middle-aged female identical twins, one of whom had systemic lupus erythematosus (SLE), were eva...   \n",
       "1  Our understanding of the pathogenesis of infectious, especially bacterial, diarrhea has increase...   \n",
       "2  In the pathogenesis of rheumatoid arthritis, locally produced antibodies complex with an incitin...   \n",
       "3  Pharyngitis, bronchitis, and pneumonia represent the most common respiratory tract infections. W...   \n",
       "4  Acute bronchitis, an illness frequently encountered by primary-care physicians, is an inflammati...   \n",
       "\n",
       "                                                                                             body_text  \n",
       "0  The patient (Fo, ) was a 58 year old mentally retarded white woman, born in a rural area of sout...  \n",
       "1  Pathogenesis and Risk Factors J. ROBERT CANTEY, M.D. Charleston, South Carolina Our understandin...  \n",
       "2  In the pathogenesis of rheumatoid arthritis, locally produced antibodies complex with an incitin...  \n",
       "3  Respiratory Tract Infections JERROLD J. ELLNER, M.D. Cleveland, CM Pharyngitis, bronchitis, and ...  \n",
       "4  A cute bronchitis, an illness frequently encountered by primary-care physicians [1] , is an infl...  "
      ]
     },
     "execution_count": 21,
     "metadata": {},
     "output_type": "execute_result"
    }
   ],
   "source": [
    "cord19_df.head()"
   ]
  },
  {
   "cell_type": "code",
   "execution_count": 22,
   "metadata": {},
   "outputs": [
    {
     "data": {
      "text/plain": [
       "paper_id           0\n",
       "title             36\n",
       "authors            0\n",
       "journal         1414\n",
       "publish_time       0\n",
       "abstract           0\n",
       "body_text          0\n",
       "dtype: int64"
      ]
     },
     "execution_count": 22,
     "metadata": {},
     "output_type": "execute_result"
    }
   ],
   "source": [
    "cord19_df.isnull().sum()"
   ]
  },
  {
   "cell_type": "markdown",
   "metadata": {},
   "source": [
    "## Language detection "
   ]
  },
  {
   "cell_type": "code",
   "execution_count": 13,
   "metadata": {},
   "outputs": [],
   "source": [
    "import scispacy\n",
    "import spacy\n",
    "import en_core_sci_sm\n",
    "from spacy_langdetect import LanguageDetector\n",
    "\n",
    "nlp = spacy.load(\"en_core_web_sm\")\n",
    "nlp = en_core_sci_sm.load()\n",
    "nlp.max_length = 1_000_000\n",
    "nlp.add_pipe(LanguageDetector(), name='language_detector', last=True)"
   ]
  },
  {
   "cell_type": "code",
   "execution_count": 14,
   "metadata": {},
   "outputs": [
    {
     "name": "stdout",
     "output_type": "stream",
     "text": [
      "CPU times: user 14min 27s, sys: 1min 25s, total: 15min 52s\n",
      "Wall time: 15min 58s\n"
     ]
    },
    {
     "data": {
      "text/plain": [
       "en         28030\n",
       "tl          4032\n",
       "fr           164\n",
       "es           157\n",
       "it            12\n",
       "de             8\n",
       "nl             6\n",
       "pt             3\n",
       "ro             1\n",
       "et             1\n",
       "ca             1\n",
       "cy             1\n",
       "UNKNOWN        1\n",
       "Name: paper_language, dtype: int64"
      ]
     },
     "execution_count": 14,
     "metadata": {},
     "output_type": "execute_result"
    }
   ],
   "source": [
    "%%time\n",
    "cord19_df['paper_language'] = cord19_df.abstract.apply(lambda x: nlp(str(x[:1000]))._.language['language'])\n",
    "\n",
    "cord19_df.paper_language.value_counts()"
   ]
  },
  {
   "cell_type": "code",
   "execution_count": 15,
   "metadata": {},
   "outputs": [
    {
     "data": {
      "text/plain": [
       "paper_id           0\n",
       "title             34\n",
       "authors            0\n",
       "journal         1410\n",
       "publish_time       0\n",
       "abstract           0\n",
       "body_text          0\n",
       "dtype: int64"
      ]
     },
     "execution_count": 15,
     "metadata": {},
     "output_type": "execute_result"
    }
   ],
   "source": [
    "cord19_df = cord19_df[cord19_df.paper_language=='en'].drop(['paper_language'], axis=1)\n",
    "cord19_df.isnull().sum()"
   ]
  },
  {
   "cell_type": "code",
   "execution_count": 16,
   "metadata": {},
   "outputs": [
    {
     "name": "stdout",
     "output_type": "stream",
     "text": [
      "The CORD19 dataset contains 28030 papers written in English\n"
     ]
    }
   ],
   "source": [
    "print(f'The CORD19 dataset contains {cord19_df.shape[0]} papers written in English')"
   ]
  },
  {
   "cell_type": "markdown",
   "metadata": {},
   "source": [
    "## Save to CSV format"
   ]
  },
  {
   "cell_type": "code",
   "execution_count": 17,
   "metadata": {},
   "outputs": [],
   "source": [
    "cord19_df.to_csv('../data_processed/cord19_processed.csv', index=False)"
   ]
  },
  {
   "cell_type": "code",
   "execution_count": null,
   "metadata": {},
   "outputs": [],
   "source": []
  }
 ],
 "metadata": {
  "kernelspec": {
   "display_name": "Python 3",
   "language": "python",
   "name": "python3"
  },
  "language_info": {
   "codemirror_mode": {
    "name": "ipython",
    "version": 3
   },
   "file_extension": ".py",
   "mimetype": "text/x-python",
   "name": "python",
   "nbconvert_exporter": "python",
   "pygments_lexer": "ipython3",
   "version": "3.7.6"
  }
 },
 "nbformat": 4,
 "nbformat_minor": 4
}
